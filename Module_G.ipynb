{
  "nbformat": 4,
  "nbformat_minor": 0,
  "metadata": {
    "colab": {
      "provenance": [],
      "authorship_tag": "ABX9TyMmdNy7qkpm2MIwnckqowQx",
      "include_colab_link": true
    },
    "kernelspec": {
      "name": "python3",
      "display_name": "Python 3"
    },
    "language_info": {
      "name": "python"
    }
  },
  "cells": [
    {
      "cell_type": "markdown",
      "metadata": {
        "id": "view-in-github",
        "colab_type": "text"
      },
      "source": [
        "<a href=\"https://colab.research.google.com/github/acesaran/MAT-421/blob/main/Module_G.ipynb\" target=\"_parent\"><img src=\"https://colab.research.google.com/assets/colab-badge.svg\" alt=\"Open In Colab\"/></a>"
      ]
    },
    {
      "cell_type": "markdown",
      "source": [
        "# Section 21.1 - Numerical Integration Problem Statement"
      ],
      "metadata": {
        "id": "RmIpjqnqtuIc"
      }
    },
    {
      "cell_type": "markdown",
      "source": [
        "Given a function of f(x), we can approximate the area underneath it over a total interval of [a,b]. To do this, we assume the inerval has been discretized into a grid x, consisting of n+1 grid points with a spacing, h, of (b-a)/n. Summing these areas of these subintervals gives us the approximation of the integral."
      ],
      "metadata": {
        "id": "oHdRxnad68gh"
      }
    },
    {
      "cell_type": "markdown",
      "source": [
        "# Section 21.2 - Reimanns Integral"
      ],
      "metadata": {
        "id": "BieKxpvbDWxV"
      }
    },
    {
      "cell_type": "code",
      "execution_count": 8,
      "metadata": {
        "colab": {
          "base_uri": "https://localhost:8080/"
        },
        "id": "1hoO7m42trx4",
        "outputId": "b1f1e1d2-b8ff-4355-d678-f147ef79aa3c"
      },
      "outputs": [
        {
          "output_type": "stream",
          "name": "stdout",
          "text": [
            "1.9238905679091325\n",
            "0.07610943209086751\n",
            "1.9238905679091327\n",
            "0.07610943209086729\n",
            "2.038271580959689\n",
            "-0.03827158095968919\n"
          ]
        }
      ],
      "source": [
        "#The followniog code calculates the left, right, and the midpoint rule to approximate sin(x) from 0 to 3pi with 15 grid points over hte interval. It then compares it to the actual value of 2 and displays the error.\n",
        "import numpy as np\n",
        "\n",
        "a = 0\n",
        "b = 3*np.pi\n",
        "n = 15\n",
        "h = (b - a) / (n - 1)\n",
        "x = np.linspace(a, b, n)\n",
        "f = np.sin(x)\n",
        "\n",
        "I_riemannL = h * sum(f[:n-1])\n",
        "err_riemannL = 2 - I_riemannL\n",
        "\n",
        "I_riemannR = h * sum(f[1::])\n",
        "err_riemannR = 2 - I_riemannR\n",
        "\n",
        "I_mid = h * sum(np.sin((x[:n-1] \\\n",
        "        + x[1:])/2))\n",
        "err_mid = 2 - I_mid\n",
        "\n",
        "print(I_riemannL)\n",
        "print(err_riemannL)\n",
        "\n",
        "print(I_riemannR)\n",
        "print(err_riemannR)\n",
        "\n",
        "print(I_mid)\n",
        "print(err_mid)"
      ]
    },
    {
      "cell_type": "markdown",
      "source": [
        "# 21.3 - Trapezoid Rule"
      ],
      "metadata": {
        "id": "0E85l5LzF_Ti"
      }
    },
    {
      "cell_type": "code",
      "source": [
        "#This code uses the trapezoid rule to approximate the integral from 0 to 3pi of sin(x) with 15 evenly spaced grid points. It compares it to the actual value of 2 and displays the error.\n",
        "import numpy as np\n",
        "\n",
        "a = 0\n",
        "b = 3*np.pi\n",
        "n = 15\n",
        "h = (b - a) / (n - 1)\n",
        "x = np.linspace(a, b, n)\n",
        "f = np.sin(x)\n",
        "\n",
        "I_trap = (h/2)*(f[0] + \\\n",
        "          2 * sum(f[1:n-1]) + f[n-1])\n",
        "err_trap = 2 - I_trap\n",
        "\n",
        "print(I_trap)\n",
        "print(err_trap)"
      ],
      "metadata": {
        "colab": {
          "base_uri": "https://localhost:8080/"
        },
        "id": "RTUWEJ4TGRGK",
        "outputId": "11503739-cad7-4dc8-f3bc-30dcdf58ae7f"
      },
      "execution_count": 9,
      "outputs": [
        {
          "output_type": "stream",
          "name": "stdout",
          "text": [
            "1.9835235375094546\n",
            "0.01647646249054535\n"
          ]
        }
      ]
    }
  ]
}