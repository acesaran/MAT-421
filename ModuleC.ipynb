{
  "nbformat": 4,
  "nbformat_minor": 0,
  "metadata": {
    "colab": {
      "provenance": [],
      "authorship_tag": "ABX9TyNe9Z1yTo0+Rhm9B6dxZjOS",
      "include_colab_link": true
    },
    "kernelspec": {
      "name": "python3",
      "display_name": "Python 3"
    },
    "language_info": {
      "name": "python"
    }
  },
  "cells": [
    {
      "cell_type": "markdown",
      "metadata": {
        "id": "view-in-github",
        "colab_type": "text"
      },
      "source": [
        "<a href=\"https://colab.research.google.com/github/acesaran/MAT-421/blob/main/ModuleC.ipynb\" target=\"_parent\"><img src=\"https://colab.research.google.com/assets/colab-badge.svg\" alt=\"Open In Colab\"/></a>"
      ]
    },
    {
      "cell_type": "markdown",
      "source": [
        "# Chapter 19.1 - Root Finding Problem Statement"
      ],
      "metadata": {
        "id": "aTpSXxjGRbgA"
      }
    },
    {
      "cell_type": "markdown",
      "source": [
        "The root of any function, f(x), is given by an xr such that f(xr) = 0. "
      ],
      "metadata": {
        "id": "ylgka4ZgRoZH"
      }
    },
    {
      "cell_type": "code",
      "execution_count": 5,
      "metadata": {
        "colab": {
          "base_uri": "https://localhost:8080/"
        },
        "id": "i2r3OWViPktj",
        "outputId": "4eb5806f-6941-45ef-94ac-c103c0f6cbad"
      },
      "outputs": [
        {
          "output_type": "stream",
          "name": "stdout",
          "text": [
            "r = [1.02986653]\n",
            "result= [0.]\n"
          ]
        }
      ],
      "source": [
        "#To demonstrate this, I am going to find a root of sin(x) - (.5)x that is closest to 2\n",
        "\n",
        "import numpy as np\n",
        "from scipy import optimize\n",
        "\n",
        "f = lambda x: np.cos(x) - .5*x\n",
        "r = optimize.fsolve(f, 2)\n",
        "print(\"r =\", r)\n",
        "\n",
        "result = f(r)\n",
        "print(\"result=\", result)"
      ]
    },
    {
      "cell_type": "markdown",
      "source": [
        "# Chapter 19.2 and 19.3 - Tolerance and Bisection Method"
      ],
      "metadata": {
        "id": "5JzN79mdY1g9"
      }
    },
    {
      "cell_type": "markdown",
      "source": [
        "The bisection method uses the intermediate value theorem to find roots within a function. It checks continuous m values and re-adjusts until f(m) is close enough to 0. The below function defines the bisection and runs until a root is found, if no root is found then it returns an exception."
      ],
      "metadata": {
        "id": "t85-S6Jja7yR"
      }
    },
    {
      "cell_type": "code",
      "source": [
        "import numpy as np\n",
        "\n",
        "def my_bisection(f, a, b, tol): \n",
        "   \n",
        "    if np.sign(f(a)) == np.sign(f(b)):\n",
        "        raise Exception(\n",
        "         \"The scalars a and b do not bound a root\")\n",
        "        \n",
        "    m = (a + b)/2\n",
        "    \n",
        "    if np.abs(f(m)) < tol:\n",
        "        return m\n",
        "    elif np.sign(f(a)) == np.sign(f(m)):\n",
        "        return my_bisection(f, m, b, tol)\n",
        "    elif np.sign(f(b)) == np.sign(f(m)):\n",
        "        return my_bisection(f, a, m, tol)"
      ],
      "metadata": {
        "id": "R3iCwMBOY5YU"
      },
      "execution_count": 6,
      "outputs": []
    },
    {
      "cell_type": "markdown",
      "source": [
        "This next code uses the function x^3 - 4, a boundary between 0 and 4, and determines its root with a tolerance of .1 and then .001"
      ],
      "metadata": {
        "id": "Qz3t06Ctmfuu"
      }
    },
    {
      "cell_type": "code",
      "source": [
        "f = lambda x: x**3 - 4\n",
        "\n",
        "r1 = my_bisection(f, 0, 4, 0.1)\n",
        "print(\"r1 =\", r1)\n",
        "r01 = my_bisection(f, 0, 4, 0.01)\n",
        "print(\"r01 =\", r01)\n",
        "\n",
        "print(\"f(r1) =\", f(r1))\n",
        "print(\"f(r01) =\", f(r01))"
      ],
      "metadata": {
        "colab": {
          "base_uri": "https://localhost:8080/"
        },
        "id": "BywL8NJ_l7SR",
        "outputId": "b2cb15fe-4796-4897-aec0-3d07d7e81541"
      },
      "execution_count": 7,
      "outputs": [
        {
          "output_type": "stream",
          "name": "stdout",
          "text": [
            "r1 = 1.59375\n",
            "r01 = 1.587890625\n",
            "f(r1) = 0.048187255859375\n",
            "f(r01) = 0.0037020817399024963\n"
          ]
        }
      ]
    },
    {
      "cell_type": "markdown",
      "source": [
        "# 19.4 - Newton-Raphson Method"
      ],
      "metadata": {
        "id": "uf3AUV2omzo_"
      }
    },
    {
      "cell_type": "markdown",
      "source": [
        "The Newton-Raphson method is a form of linear approximation where a Newton step is taken for a function that gets closer and closer to its actual value. The below code uses the Newton-Raphson method to estimate the value of sqrt(8) with a starting value of 2.8"
      ],
      "metadata": {
        "id": "Qe0Q37gbnSr_"
      }
    },
    {
      "cell_type": "code",
      "source": [
        "f = lambda x: x**2 - 8\n",
        "f_prime = lambda x: 2*x\n",
        "def my_newton(f, df, x0, tol):\n",
        "  if abs(f(x0)) < tol:\n",
        "    return x0\n",
        "  else:\n",
        "    return my_newton(f, df, x0 - f(x0)/df(x0), tol)\n",
        "\n",
        "\n",
        "estimate = my_newton(f, f_prime, 2.8, 1e-6)\n",
        "print(\"estimate =\", estimate)\n",
        "print(\"sqrt(2) =\", np.sqrt(8))"
      ],
      "metadata": {
        "colab": {
          "base_uri": "https://localhost:8080/"
        },
        "id": "fPq_fnajoQbg",
        "outputId": "6c93fdc6-1a97-49da-b27c-be67dd24f8af"
      },
      "execution_count": 9,
      "outputs": [
        {
          "output_type": "stream",
          "name": "stdout",
          "text": [
            "estimate = 2.8284271284271285\n",
            "sqrt(2) = 2.8284271247461903\n"
          ]
        }
      ]
    },
    {
      "cell_type": "markdown",
      "source": [
        "# 19.5 - Root Finding in Python"
      ],
      "metadata": {
        "id": "U51DXBWRo7Qm"
      }
    },
    {
      "cell_type": "markdown",
      "source": [
        "Python already has root-finding functions in place, specifically with f_solve in the scipy.optimize library. This can be used to solve for every root of a function, as it returns an array with each root from a given estimate. In this case, I am solving x^3 - 5x^2 + 2x + 8 for all of its roots."
      ],
      "metadata": {
        "id": "Kzjb2PVMqGKI"
      }
    },
    {
      "cell_type": "code",
      "source": [
        "from scipy.optimize import fsolve\n",
        "f = lambda x: x**3 - 5*x**2 + 2*x + 8\n",
        "\n",
        "fsolve(f, [-2, 1.5, 4.5])"
      ],
      "metadata": {
        "colab": {
          "base_uri": "https://localhost:8080/"
        },
        "id": "zMX5wtNJo_nn",
        "outputId": "8352ce61-0cca-4827-92db-4d5f33655128"
      },
      "execution_count": 14,
      "outputs": [
        {
          "output_type": "execute_result",
          "data": {
            "text/plain": [
              "array([-1.,  2.,  4.])"
            ]
          },
          "metadata": {},
          "execution_count": 14
        }
      ]
    }
  ]
}