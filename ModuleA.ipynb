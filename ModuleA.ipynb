{
  "nbformat": 4,
  "nbformat_minor": 0,
  "metadata": {
    "colab": {
      "provenance": [],
      "authorship_tag": "ABX9TyMEybgwof7snlCH2uLhhDNp",
      "include_colab_link": true
    },
    "kernelspec": {
      "name": "python3",
      "display_name": "Python 3"
    },
    "language_info": {
      "name": "python"
    }
  },
  "cells": [
    {
      "cell_type": "markdown",
      "metadata": {
        "id": "view-in-github",
        "colab_type": "text"
      },
      "source": [
        "<a href=\"https://colab.research.google.com/github/acesaran/MAT-421/blob/main/ModuleA.ipynb\" target=\"_parent\"><img src=\"https://colab.research.google.com/assets/colab-badge.svg\" alt=\"Open In Colab\"/></a>"
      ]
    },
    {
      "cell_type": "markdown",
      "source": [
        "# Chapter 9.1 - Base-N and Binary"
      ],
      "metadata": {
        "id": "EwXjD1GtGwpb"
      }
    },
    {
      "cell_type": "code",
      "source": [
        "#Take two numbers, in this case 16 and 50, and convert them to binary using bin()\n",
        "\n",
        "a = 16\n",
        "b = 50\n",
        "\n",
        "print(bin(a))\n",
        "print(bin(b))"
      ],
      "metadata": {
        "id": "qoeKYCFMHQBf"
      },
      "execution_count": null,
      "outputs": []
    },
    {
      "cell_type": "code",
      "source": [
        "#To perform binary addition, we convert the base10 numbers to binary and then perform addition\n",
        "bin(25)\n",
        "bin(6)\n",
        "a = 0b11001\n",
        "b = 0b00110\n",
        "c = a + b\n",
        "print(f\"{c:b}\")"
      ],
      "metadata": {
        "colab": {
          "base_uri": "https://localhost:8080/"
        },
        "id": "uApxcIEFIptN",
        "outputId": "b11ae19c-bd86-4703-ac5b-04fbc7fba181"
      },
      "execution_count": 12,
      "outputs": [
        {
          "output_type": "stream",
          "name": "stdout",
          "text": [
            "11111\n"
          ]
        }
      ]
    },
    {
      "cell_type": "code",
      "source": [
        "#To perform binary multiplication, we convert base10 numbers to binary and then perform multiplication on them\n",
        "bin(25)\n",
        "bin(6)\n",
        "a = 0b11001\n",
        "b = 0b00110\n",
        "c = a * b \n",
        "print(f\"{c:b}\")"
      ],
      "metadata": {
        "colab": {
          "base_uri": "https://localhost:8080/"
        },
        "id": "6ODO7-LLMeEz",
        "outputId": "6b37623d-0b42-49b5-c8a1-d3dfc753b1f0"
      },
      "execution_count": 13,
      "outputs": [
        {
          "output_type": "stream",
          "name": "stdout",
          "text": [
            "10010110\n"
          ]
        }
      ]
    },
    {
      "cell_type": "markdown",
      "source": [
        "# Chapter 9.2 - Floating Point Numbers"
      ],
      "metadata": {
        "id": "faWXTG1TOOTL"
      }
    },
    {
      "cell_type": "code",
      "source": [
        "import sys\n",
        "sys.float_info"
      ],
      "metadata": {
        "colab": {
          "base_uri": "https://localhost:8080/"
        },
        "id": "RhIzkF5tObfM",
        "outputId": "1f2d9858-36e0-43e2-fd99-61ceb33ef44f"
      },
      "execution_count": 14,
      "outputs": [
        {
          "output_type": "execute_result",
          "data": {
            "text/plain": [
              "sys.float_info(max=1.7976931348623157e+308, max_exp=1024, max_10_exp=308, min=2.2250738585072014e-308, min_exp=-1021, min_10_exp=-307, dig=15, mant_dig=53, epsilon=2.220446049250313e-16, radix=2, rounds=1)"
            ]
          },
          "metadata": {},
          "execution_count": 14
        }
      ]
    },
    {
      "cell_type": "code",
      "source": [
        "#Because of floating point numbers, there exist numbers that will result in an underflow and overflow depending on the value of the number\n",
        "#Any number over 1.8e308 will result in an overflow and any number less than 2^(-1075) will underflow to 0\n",
        "\n",
        "1.99e308 "
      ],
      "metadata": {
        "colab": {
          "base_uri": "https://localhost:8080/"
        },
        "id": "gsm3YlhDOean",
        "outputId": "024e4558-452c-42ff-aa9e-fde0bc5a8a00"
      },
      "execution_count": 15,
      "outputs": [
        {
          "output_type": "execute_result",
          "data": {
            "text/plain": [
              "inf"
            ]
          },
          "metadata": {},
          "execution_count": 15
        }
      ]
    },
    {
      "cell_type": "code",
      "source": [
        "2**(-1100)"
      ],
      "metadata": {
        "colab": {
          "base_uri": "https://localhost:8080/"
        },
        "id": "IMjY8ugpPhUC",
        "outputId": "073073ac-bfcf-426d-d289-3489afe05e4d"
      },
      "execution_count": 19,
      "outputs": [
        {
          "output_type": "execute_result",
          "data": {
            "text/plain": [
              "0.0"
            ]
          },
          "metadata": {},
          "execution_count": 19
        }
      ]
    },
    {
      "cell_type": "code",
      "source": [
        "#The distance between one number to the next is called the gap, and we can calculate that gap using an imported 'spacing' function\n",
        "#This gap grows as the number grows and by adding that number to half its gap, it results in the same number\n",
        "import numpy as np\n",
        "\n",
        "np.spacing(1e8)"
      ],
      "metadata": {
        "colab": {
          "base_uri": "https://localhost:8080/"
        },
        "id": "8HnzeGs1P05C",
        "outputId": "9d61022b-36c5-42ea-964d-3b76f1fe0b59"
      },
      "execution_count": 21,
      "outputs": [
        {
          "output_type": "execute_result",
          "data": {
            "text/plain": [
              "1.4901161193847656e-08"
            ]
          },
          "metadata": {},
          "execution_count": 21
        }
      ]
    },
    {
      "cell_type": "code",
      "source": [
        "1e8 == (1e8 + np.spacing(1e8)/3)"
      ],
      "metadata": {
        "colab": {
          "base_uri": "https://localhost:8080/"
        },
        "id": "tWwp67gCR4BI",
        "outputId": "d7751afd-559a-4410-de98-9310efde4add"
      },
      "execution_count": 22,
      "outputs": [
        {
          "output_type": "execute_result",
          "data": {
            "text/plain": [
              "True"
            ]
          },
          "metadata": {},
          "execution_count": 22
        }
      ]
    },
    {
      "cell_type": "markdown",
      "source": [
        "# 9.3 Round-off Errors"
      ],
      "metadata": {
        "id": "_260EJJbSKgd"
      }
    },
    {
      "cell_type": "code",
      "source": [
        "#Because of the way python handles calculations, there is usually a roundoff error because the floating point can not be shown by an exact number\n",
        "\n",
        "#An example of this is that 2.6 - 2.545 does not strictly equal 0.055 due to roundoff errors\n",
        "2.6 - 2.545 == 0.055"
      ],
      "metadata": {
        "colab": {
          "base_uri": "https://localhost:8080/"
        },
        "id": "eArjyj0ZTXSn",
        "outputId": "24369bd4-7729-4af2-d91f-c2e75ae2693b"
      },
      "execution_count": 26,
      "outputs": [
        {
          "output_type": "execute_result",
          "data": {
            "text/plain": [
              "False"
            ]
          },
          "metadata": {},
          "execution_count": 26
        }
      ]
    },
    {
      "cell_type": "code",
      "source": [
        "#In this case, it actually equals 0.05500000000000016\n",
        "2.6 - 2.545"
      ],
      "metadata": {
        "colab": {
          "base_uri": "https://localhost:8080/"
        },
        "id": "i9vMnrhUTwVK",
        "outputId": "c611afc1-fa4b-4478-9b57-288403a6e77b"
      },
      "execution_count": 27,
      "outputs": [
        {
          "output_type": "execute_result",
          "data": {
            "text/plain": [
              "0.05500000000000016"
            ]
          },
          "metadata": {},
          "execution_count": 27
        }
      ]
    },
    {
      "cell_type": "code",
      "source": [
        "#In order to circumvent this we must use the round function to compare 2 numbers\n",
        "round(2.6-2.545, 6) == round(0.055, 6)"
      ],
      "metadata": {
        "colab": {
          "base_uri": "https://localhost:8080/"
        },
        "id": "PxsEF81tT2Cp",
        "outputId": "e93dadb2-d2fd-4ed0-ab53-b3b2007e7ea8"
      },
      "execution_count": 28,
      "outputs": [
        {
          "output_type": "execute_result",
          "data": {
            "text/plain": [
              "True"
            ]
          },
          "metadata": {},
          "execution_count": 28
        }
      ]
    },
    {
      "cell_type": "code",
      "source": [
        "#Round-off errors actually accumulate over time, and due to repeated functions this error can grow in value\n",
        "#In this problem, we take a starting value of 5 and add it to 1/3 a number of times (based on the iterations) and then subtract it by 1/3 that many times\n",
        "#By the end, with more iterations the round-off grows\n",
        "\n",
        "def add_and_subtract(iterations):\n",
        "  result = 5\n",
        "\n",
        "  for i in range(iterations):\n",
        "    result += 1/3\n",
        "\n",
        "  for i in range(iterations):\n",
        "    result -= 1/3\n",
        "\n",
        "  return result"
      ],
      "metadata": {
        "id": "3Exq-PPfUKoE"
      },
      "execution_count": 49,
      "outputs": []
    },
    {
      "cell_type": "code",
      "source": [
        "#In this function call, we are running through 1000 iterations and the roundoff error is somewhat small but still present\n",
        "add_and_subtract(1000)"
      ],
      "metadata": {
        "colab": {
          "base_uri": "https://localhost:8080/"
        },
        "id": "GjWMJMKLU_aR",
        "outputId": "48755819-a1fa-4f36-c8dd-cf12ea0f1e28"
      },
      "execution_count": 53,
      "outputs": [
        {
          "output_type": "execute_result",
          "data": {
            "text/plain": [
              "5.000000000000006"
            ]
          },
          "metadata": {},
          "execution_count": 53
        }
      ]
    },
    {
      "cell_type": "code",
      "source": [
        "#In this case, we are doing 20,000 iterations and the roundoff error is much greater\n",
        "add_and_subtract(20000)"
      ],
      "metadata": {
        "colab": {
          "base_uri": "https://localhost:8080/"
        },
        "id": "BndpbCH1VOmN",
        "outputId": "341423cc-8fbe-49dc-bf1a-08449529abda"
      },
      "execution_count": 47,
      "outputs": [
        {
          "output_type": "execute_result",
          "data": {
            "text/plain": [
              "5.000000000000116"
            ]
          },
          "metadata": {},
          "execution_count": 47
        }
      ]
    }
  ]
}