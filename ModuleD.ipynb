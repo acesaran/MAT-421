{
  "nbformat": 4,
  "nbformat_minor": 0,
  "metadata": {
    "colab": {
      "provenance": [],
      "authorship_tag": "ABX9TyNgvGYQntDP6M1gcVhZgNdx",
      "include_colab_link": true
    },
    "kernelspec": {
      "name": "python3",
      "display_name": "Python 3"
    },
    "language_info": {
      "name": "python"
    }
  },
  "cells": [
    {
      "cell_type": "markdown",
      "metadata": {
        "id": "view-in-github",
        "colab_type": "text"
      },
      "source": [
        "<a href=\"https://colab.research.google.com/github/acesaran/MAT-421/blob/main/ModuleD.ipynb\" target=\"_parent\"><img src=\"https://colab.research.google.com/assets/colab-badge.svg\" alt=\"Open In Colab\"/></a>"
      ]
    },
    {
      "cell_type": "markdown",
      "source": [
        "# 1.1 - Introduction"
      ],
      "metadata": {
        "id": "gYV3skQzDZez"
      }
    },
    {
      "cell_type": "markdown",
      "source": [
        "Linear algebra is a field of math that is close to data science and machine learning. It uses matricies to analyze data and form structures that plays a significant role in things such as image compression and data analysis."
      ],
      "metadata": {
        "id": "O7sInSSND_d2"
      }
    },
    {
      "cell_type": "markdown",
      "source": [
        "# 1.2 - Elements of Linear Algebra"
      ],
      "metadata": {
        "id": "sP_XrWHZEAku"
      }
    },
    {
      "cell_type": "markdown",
      "source": [
        "In linear algebra, nearly everything is computed from vectors. Vectors have both a direction and magnitude in whatever space they occupy. In the case of our real world (3 dimensions) there is an x, y, and z value associated with each vector and points into space starting from the origin.\n",
        "From two vectors, you can find many things such as the dot product, cross product, and even the angle between them."
      ],
      "metadata": {
        "id": "JE71379LIY4m"
      }
    },
    {
      "cell_type": "code",
      "execution_count": 4,
      "metadata": {
        "colab": {
          "base_uri": "https://localhost:8080/"
        },
        "id": "OUO3ajWvDYEs",
        "outputId": "380e55ff-3b08-485d-f2ec-46ceaca002ff"
      },
      "outputs": [
        {
          "output_type": "stream",
          "name": "stdout",
          "text": [
            "[[ 16 -26  -1]]\n",
            "[[1.51860859]]\n"
          ]
        }
      ],
      "source": [
        "#In this example, I find the cross product of vectors x and z (the vector perpindicular to them), and the angle between v and w using the dot product (in radians).\n",
        "import numpy as np\n",
        "from numpy import arccos, dot\n",
        "from numpy.linalg import norm\n",
        "x = np.array([[5, 3, 2]])\n",
        "z = np.array([[7, 4, 8]])\n",
        "print(np.cross(x, z))\n",
        "\n",
        "v = np.array([[-1, 4, -5]])\n",
        "w = np.array([[10, 6, 2]])\n",
        "theta = \\\n",
        "    arccos(dot(v, w.T)/(norm(v)*norm(w)))\n",
        "print(theta)"
      ]
    },
    {
      "cell_type": "markdown",
      "source": [
        "Using vectors we can end up forming matricies, which have both a width and height, formed as a 2D array in coding. Using matricies we can do a wide variety of things such as factorize the matrix, use it to solve linear equations, decompose the matrix using a varity of methods, find the projections of the matrix, and find the eigenvalues and eigenvectors of the matrix.  "
      ],
      "metadata": {
        "id": "uOIQlIOFK6kM"
      }
    },
    {
      "cell_type": "code",
      "source": [
        "#In this example, I chose to find the inverse of the matrix M (a 4x4), and the determinant of the matrix P (a 3x3).\n",
        "from numpy.linalg import inv, det\n",
        "\n",
        "M = np.array([[0,2,1,3], \n",
        "             [3,2,10,1], \n",
        "             [1,0,0,5],\n",
        "             [0,7,2,1]])\n",
        "print('Inv M:\\n', inv(M))\n",
        "P = np.array([[0,1,2],\n",
        "              [6,0,0],\n",
        "              [1,8,1]])\n",
        "print('det(p):\\n', det(P))"
      ],
      "metadata": {
        "colab": {
          "base_uri": "https://localhost:8080/"
        },
        "id": "viFTCDtOLp96",
        "outputId": "479b1f82-790e-4d3b-c7d8-dc1770e9bea0"
      },
      "execution_count": 6,
      "outputs": [
        {
          "output_type": "stream",
          "name": "stdout",
          "text": [
            "Inv M:\n",
            " [[-1.48648649  0.06756757  0.7972973   0.40540541]\n",
            " [-0.17117117 -0.02252252  0.06756757  0.1981982 ]\n",
            " [ 0.45045045  0.08558559 -0.25675676 -0.15315315]\n",
            " [ 0.2972973  -0.01351351  0.04054054 -0.08108108]]\n",
            "det(p):\n",
            " 90.0\n"
          ]
        }
      ]
    },
    {
      "cell_type": "code",
      "source": [
        "#In this example, I chose to find the eigen values and vectors of matrix x \n",
        "from numpy.linalg import eig\n",
        "x = np.array([ [2, -2], [1, 14] ])\n",
        "w,v = eig(x)\n",
        "print('E-value:', w)\n",
        "print('E-vector', v)"
      ],
      "metadata": {
        "colab": {
          "base_uri": "https://localhost:8080/"
        },
        "id": "aloh5Jo4LxsK",
        "outputId": "5a375e43-7230-4b12-b74e-caf52b05c7cb"
      },
      "execution_count": 8,
      "outputs": [
        {
          "output_type": "stream",
          "name": "stdout",
          "text": [
            "E-value: [ 2.16904811 13.83095189]\n",
            "E-vector [[-0.99644687  0.16668321]\n",
            " [ 0.08422373 -0.9860105 ]]\n"
          ]
        }
      ]
    },
    {
      "cell_type": "markdown",
      "source": [
        "# 1.3 - Linear Regression"
      ],
      "metadata": {
        "id": "Qktlj8ozMWqH"
      }
    },
    {
      "cell_type": "markdown",
      "source": [
        "Linear regression is a form of modeling done using parameters that are konwn and relating them to find unknown parameteres. This is most useful in statistical models to determine where a graph may go eventually past the data that was found. "
      ],
      "metadata": {
        "id": "-Lj_btJfM8yk"
      }
    },
    {
      "cell_type": "code",
      "source": [
        "#For this example, I use QR Decomposition to decompose a matrix using the Graham-Schmidt process. This is normally used to solve the linear least squares problem.\n",
        "\n",
        "import numpy as np\n",
        "from numpy.linalg import qr\n",
        "x = np.array([[0, 4], [4, 6]])\n",
        "\n",
        "Q,R = qr(x)\n",
        "print('Q:', Q)\n",
        "print('R:', R)\n",
        "\n",
        "z = np.dot(Q, R)\n",
        "print('QR:', z)\n",
        "\n",
        "iterations = [1, 20]\n",
        "for i in range(20):\n",
        "    Q,R = qr(x)\n",
        "    x = np.dot(R, Q)\n",
        "    if i+1 in iterations:\n",
        "        print(f'Iteration {i+1}:')\n",
        "        print(x)"
      ],
      "metadata": {
        "colab": {
          "base_uri": "https://localhost:8080/"
        },
        "id": "W4Qy0SqGMZxf",
        "outputId": "ad21091c-f47a-451a-a74a-3ad54058b616"
      },
      "execution_count": 10,
      "outputs": [
        {
          "output_type": "stream",
          "name": "stdout",
          "text": [
            "Q: [[ 0. -1.]\n",
            " [-1.  0.]]\n",
            "R: [[-4. -6.]\n",
            " [ 0. -4.]]\n",
            "QR: [[0. 4.]\n",
            " [4. 6.]]\n",
            "Iteration 1:\n",
            "[[6. 4.]\n",
            " [4. 0.]]\n",
            "Iteration 20:\n",
            "[[ 8.0000000e+00  1.8189685e-11]\n",
            " [ 1.8189894e-11 -2.0000000e+00]]\n"
          ]
        }
      ]
    },
    {
      "cell_type": "code",
      "source": [
        "#For this last example, I generate a random number of dots along a semi-constricted path and use direct least square regression. After this, I model a line best fit to those points.\n",
        "import numpy as np\n",
        "from scipy import optimize\n",
        "import matplotlib.pyplot as plt\n",
        "\n",
        "plt.style.use('seaborn-poster')\n",
        "x = np.linspace(0, 1, 101)\n",
        "y = 1 + 2*x + x * np.random.random(len(x))\n",
        "A = np.vstack([x, np.ones(len(x))]).T\n",
        "\n",
        "y = y[:, np.newaxis]\n",
        "\n",
        "alpha = np.dot((np.dot(np.linalg.inv(np.dot(A.T,A)),A.T)),y)\n",
        "print(alpha)\n",
        "\n",
        "plt.figure(figsize = (10,8))\n",
        "plt.plot(x, y, 'c.')\n",
        "plt.plot(x, alpha[0]*x + alpha[1], 'g')\n",
        "plt.xlabel('x')\n",
        "plt.ylabel('y')\n",
        "plt.title(\"Linear Regression\")\n",
        "plt.show()"
      ],
      "metadata": {
        "colab": {
          "base_uri": "https://localhost:8080/",
          "height": 573
        },
        "id": "yDriJ7E5OXli",
        "outputId": "e7f9cb3e-42c7-4310-cac4-a4a27b6a2e46"
      },
      "execution_count": 21,
      "outputs": [
        {
          "output_type": "stream",
          "name": "stdout",
          "text": [
            "[[2.42704165]\n",
            " [1.01670214]]\n"
          ]
        },
        {
          "output_type": "display_data",
          "data": {
            "text/plain": [
              "<Figure size 720x576 with 1 Axes>"
            ],
            "image/png": "[encoded data removed]"
          },
          "metadata": {
            "needs_background": "light"
          }
        }
      ]
    }
  ]
}